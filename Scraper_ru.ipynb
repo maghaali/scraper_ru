{
 "cells": [
  {
   "cell_type": "markdown",
   "metadata": {},
   "source": [
    "<span style=\"color:red; font-size:20px\">**Caution**: If you don't have right to read this book(You've not purchased it before) so you don't have right to download these audios!</span>"
   ]
  },
  {
   "cell_type": "markdown",
   "metadata": {},
   "source": [
    "### Note: *It is scraping audios from Russian text book that I have the legal right to read so I just created this scraper for my own convenience to instead of download large amount of audio files one by one, download all of them in order with right tags to be abale to practice more convenient*"
   ]
  },
  {
   "cell_type": "markdown",
   "metadata": {},
   "source": [
    "## First of all we will import some essential libraries"
   ]
  },
  {
   "cell_type": "code",
   "execution_count": null,
   "metadata": {},
   "outputs": [],
   "source": [
    "import urllib.request\n",
    "import re\n",
    "from bs4 import BeautifulSoup\n",
    "import requests"
   ]
  },
  {
   "cell_type": "code",
   "execution_count": null,
   "metadata": {
    "scrolled": true
   },
   "outputs": [],
   "source": [
    "# It can take around 570 MB of data so this caution is essential :)\n",
    "print(\"Caution! Long range of numbers can caused downloading huge amount of data!\")\n",
    "\n",
    "# Audios of this book starts at 581(first lesson) and goes on up to 915\n",
    "start_point = int(input(\"Enter start point(Start from 581): \")) # Start point \n",
    "end_point = int(input(\"Enter end point(Up to 915): \")) + 1\n",
    "\n",
    "for i in range(start_point,end_point):\n",
    "    link = \"http://l.zlat.spb.ru/les/\"+str(i)+'/'\n",
    "    f = urllib.request.urlopen(link)\n",
    "    myfile = f.read().decode()\n",
    "    f.close()\n",
    "    # soup = BeautifulSoup(myfile)\n",
    "    # print(soup.prettify())\n",
    "    soup = BeautifulSoup(myfile, 'lxml')\n",
    "\n",
    "    for p in zip(soup.select('title')):\n",
    "        l = str(p[0])\n",
    "        l = l.lstrip('<title>Первые шаги. часть ')\n",
    "        l = l.rstrip('</title>')\n",
    "\n",
    "    for t in zip(soup.select('source')):\n",
    "        s = str(t[0])\n",
    "        s = s.lstrip('<source src=\"')\n",
    "        s = s.rstrip('\"/>')\n",
    "        s = s.lstrip('\\/')\n",
    "\n",
    "    f_link = \"http://l.zlat.spb.ru/\"+s\n",
    "    l = l+\".mp3\"\n",
    "    l = l.replace(\"/\",\"-\")\n",
    "\n",
    "    file_object = requests.get(f_link)\n",
    "    with open(l, 'wb') as local_file:\n",
    "        local_file.write(file_object.content)\n",
    "    print(i,'done!')\n",
    "print('All done! copy right: https://github.com/spacelover92 :)')\n",
    "input('Press Enter to exit...')"
   ]
  },
  {
   "cell_type": "markdown",
   "metadata": {},
   "source": [
    "<span style=\"color:green; font-size:20px\">All copyrights reserved for <a href=\"https://github.com/spacelover92\" target=\"_blank\">https://github.com/spacelover92</a></span>"
   ]
  }
 ],
 "metadata": {
  "kernelspec": {
   "display_name": "Python 3",
   "language": "python",
   "name": "python3"
  },
  "language_info": {
   "codemirror_mode": {
    "name": "ipython",
    "version": 3
   },
   "file_extension": ".py",
   "mimetype": "text/x-python",
   "name": "python",
   "nbconvert_exporter": "python",
   "pygments_lexer": "ipython3",
   "version": "3.7.9"
  }
 },
 "nbformat": 4,
 "nbformat_minor": 4
}
